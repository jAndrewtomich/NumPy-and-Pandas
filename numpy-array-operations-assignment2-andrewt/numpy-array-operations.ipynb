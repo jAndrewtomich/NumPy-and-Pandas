{
 "cells": [
  {
   "cell_type": "markdown",
   "metadata": {},
   "source": [
    "# NumPy Functions to Make your Life Easier\n",
    "\n",
    "\n",
    "### Useful NumPy Functions \n",
    "\n",
    "NumPy is an open-source Python package that facilitates working with arrays, as well as providing basic linear algebra functions and comprehensive random number generation capabilities.  The central feature of NumPy is the N-dimensional array object, which provides vast flexibility in the use of multi-dimensional arrays in terms of both UX and memory usage.  Below is a small collection of array functions which illustrate some of NumPy's core functionalities and strengths.\n",
    "\n",
    "- numpy.reshape()\n",
    "- numpy.resize()\n",
    "- numpy.linalg.norm()\n",
    "- numpy.hypot()\n",
    "- numpy.cumsum()\n"
   ]
  },
  {
   "cell_type": "markdown",
   "metadata": {},
   "source": [
    "# List of functions explained \n",
    "### function1 = np.reshape()\n",
    "    numpy.reshape(a, newshape, order='C')\n",
    "    \n",
    "        Gives a new shape to an array without changing its data.\n",
    "        \n",
    "### function2 = np.resize()\n",
    "    numpy.resize(a, new_shape)\n",
    "    \n",
    "        Return a new array with the specified shape.  If the new array is larger than the original array, then the new array is filled with repeated copies of a. Note that this behavior is different from a.resize(new_shape) which fills with zeros instead of repeated copies of a.\n",
    "        \n",
    "### function3 = np.linalg.norm()\n",
    "    numpy.linalg.norm(x, ord=None, axis=None, keepdims=False)\n",
    "    Matrix or vector norm.\n",
    "\n",
    "    This function is able to return one of eight different matrix norms, or one of an infinite number of vector norms (described below), depending on the value of the ord parameter.\n",
    "    \n",
    "### function4 = np.hypot()\n",
    "    numpy.hypot(x1, x2, /, out=None, *, where=True, casting='same_kind', order='K', dtype=None, subok=True[, signature, extobj]) = <ufunc 'hypot'>\n",
    "    \n",
    "    Given the “legs” of a right triangle, return its hypotenuse.\n",
    "\n",
    "    Equivalent to sqrt(x1**2 + x2**2), element-wise. If x1 or x2 is scalar_like (i.e., unambiguously cast-able to a scalar type), it is broadcast for use with each element of the other argument.\n",
    "    \n",
    "### function5 = np.cumsum()\n",
    "    numpy.cumsum(a, axis=None, dtype=None, out=None)\n",
    "    \n",
    "    Return the cumulative sum of the elements along a given axis."
   ]
  },
  {
   "cell_type": "code",
   "execution_count": 1,
   "metadata": {},
   "outputs": [],
   "source": [
    "import numpy as np"
   ]
  },
  {
   "cell_type": "markdown",
   "metadata": {},
   "source": [
    "## Function 1 - np.reshape()\n",
    "\n",
    "Allows for the reshaping of a NumPy N-dimensional array into a new shape, as long as the new shape is compatible."
   ]
  },
  {
   "cell_type": "code",
   "execution_count": 2,
   "metadata": {},
   "outputs": [
    {
     "name": "stdout",
     "output_type": "stream",
     "text": [
      "Our original 1-dimensional array:\n",
      "[   0   20   40   61   81  102  122  142  163  183  204  224  244  265\n",
      "  285  306  326  346  367  387  408  428  448  469  489  510  530  551\n",
      "  571  591  612  632  653  673  693  714  734  755  775  795  816  836\n",
      "  857  877  897  918  938  959  979 1000]\n",
      "\n",
      "The current shape of our 1d array:\n",
      "(50,)\n",
      "\n",
      "Our reshaped array:\n",
      "[[[   0   20   40   61   81]\n",
      "  [ 102  122  142  163  183]\n",
      "  [ 204  224  244  265  285]\n",
      "  [ 306  326  346  367  387]\n",
      "  [ 408  428  448  469  489]]\n",
      "\n",
      " [[ 510  530  551  571  591]\n",
      "  [ 612  632  653  673  693]\n",
      "  [ 714  734  755  775  795]\n",
      "  [ 816  836  857  877  897]\n",
      "  [ 918  938  959  979 1000]]]\n",
      "\n",
      "We can verify that our new array has the proper shape:\n",
      "(2, 5, 5)\n"
     ]
    }
   ],
   "source": [
    "# Example 1 - working\n",
    "x = np.linspace(0,1000, dtype = np.int64)\n",
    "print(\"Our original 1-dimensional array:\\n{}\".format(x))\n",
    "print()\n",
    "print(\"The current shape of our 1d array:\\n{}\".format(x.shape))\n",
    "print()\n",
    "x = np.reshape(x, (2, 5, 5))\n",
    "print(\"Our reshaped array:\\n{}\".format(x))\n",
    "print()\n",
    "print(\"We can verify that our new array has the proper shape:\\n{}\".format(x.shape))"
   ]
  },
  {
   "cell_type": "markdown",
   "metadata": {},
   "source": [
    "Example 1 demonstrates the flexibility of the np.reshape() function.  A 1-dimensional array is reshaped into a 3-dimensional array."
   ]
  },
  {
   "cell_type": "code",
   "execution_count": 3,
   "metadata": {},
   "outputs": [
    {
     "name": "stdout",
     "output_type": "stream",
     "text": [
      "Original 1D Array:\n",
      "[-1 -1 -6 -1  5 -4  0  1  0  6  0 -1]\n",
      "\n",
      "New 2D Array:\n",
      "[[-1 -1 -6]\n",
      " [-1  5 -4]\n",
      " [ 0  1  0]\n",
      " [ 6  0 -1]]\n"
     ]
    }
   ],
   "source": [
    "# Example 2 - working\n",
    "x = np.random.randint(-10, 10, 12)\n",
    "print(\"Original 1D Array:\\n{}\".format(x))\n",
    "print()\n",
    "x = np.reshape(x, (4, -1)) # The second argument in the reshape function call contains -1 as an element\n",
    "print(\"New 2D Array:\\n{}\".format(x))"
   ]
  },
  {
   "cell_type": "markdown",
   "metadata": {},
   "source": [
    "Example 2 shows how easy NumPy makes it to create multi-dimensional arrays.  One of the target dimensions in the np.reshape() function can be -1, which allows NumPy to infer the correct value based on the values of the other dimension arguments and the size of any remaining dimensions."
   ]
  },
  {
   "cell_type": "code",
   "execution_count": 4,
   "metadata": {},
   "outputs": [
    {
     "name": "stdout",
     "output_type": "stream",
     "text": [
      "[ 8 -6  4 -2 -2  4 -6 -3  7 -3  2  1  3]\n",
      "(13,)\n"
     ]
    },
    {
     "ename": "ValueError",
     "evalue": "cannot reshape array of size 13 into shape (4,newaxis)",
     "output_type": "error",
     "traceback": [
      "\u001b[1;31m---------------------------------------------------------------------------\u001b[0m",
      "\u001b[1;31mValueError\u001b[0m                                Traceback (most recent call last)",
      "\u001b[1;32m<ipython-input-4-56526a9fe38a>\u001b[0m in \u001b[0;36m<module>\u001b[1;34m\u001b[0m\n\u001b[0;32m      4\u001b[0m \u001b[0mprint\u001b[0m\u001b[1;33m(\u001b[0m\u001b[0mx\u001b[0m\u001b[1;33m.\u001b[0m\u001b[0mshape\u001b[0m\u001b[1;33m)\u001b[0m\u001b[1;33m\u001b[0m\u001b[1;33m\u001b[0m\u001b[0m\n\u001b[0;32m      5\u001b[0m \u001b[1;31m#x.resize(16)   Without resizing to zero-fill the incoming array, the desired shape may not be possible\u001b[0m\u001b[1;33m\u001b[0m\u001b[1;33m\u001b[0m\u001b[1;33m\u001b[0m\u001b[0m\n\u001b[1;32m----> 6\u001b[1;33m \u001b[0mx\u001b[0m \u001b[1;33m=\u001b[0m \u001b[0mnp\u001b[0m\u001b[1;33m.\u001b[0m\u001b[0mreshape\u001b[0m\u001b[1;33m(\u001b[0m\u001b[0mx\u001b[0m\u001b[1;33m,\u001b[0m \u001b[1;33m(\u001b[0m\u001b[1;36m4\u001b[0m\u001b[1;33m,\u001b[0m \u001b[1;33m-\u001b[0m\u001b[1;36m1\u001b[0m\u001b[1;33m)\u001b[0m\u001b[1;33m)\u001b[0m\u001b[1;33m\u001b[0m\u001b[1;33m\u001b[0m\u001b[0m\n\u001b[0m\u001b[0;32m      7\u001b[0m \u001b[0mprint\u001b[0m\u001b[1;33m(\u001b[0m\u001b[0mx\u001b[0m\u001b[1;33m)\u001b[0m\u001b[1;33m\u001b[0m\u001b[1;33m\u001b[0m\u001b[0m\n",
      "\u001b[1;32m<__array_function__ internals>\u001b[0m in \u001b[0;36mreshape\u001b[1;34m(*args, **kwargs)\u001b[0m\n",
      "\u001b[1;32m~\\anaconda3\\envs\\zTp\\lib\\site-packages\\numpy\\core\\fromnumeric.py\u001b[0m in \u001b[0;36mreshape\u001b[1;34m(a, newshape, order)\u001b[0m\n\u001b[0;32m    297\u001b[0m            [5, 6]])\n\u001b[0;32m    298\u001b[0m     \"\"\"\n\u001b[1;32m--> 299\u001b[1;33m     \u001b[1;32mreturn\u001b[0m \u001b[0m_wrapfunc\u001b[0m\u001b[1;33m(\u001b[0m\u001b[0ma\u001b[0m\u001b[1;33m,\u001b[0m \u001b[1;34m'reshape'\u001b[0m\u001b[1;33m,\u001b[0m \u001b[0mnewshape\u001b[0m\u001b[1;33m,\u001b[0m \u001b[0morder\u001b[0m\u001b[1;33m=\u001b[0m\u001b[0morder\u001b[0m\u001b[1;33m)\u001b[0m\u001b[1;33m\u001b[0m\u001b[1;33m\u001b[0m\u001b[0m\n\u001b[0m\u001b[0;32m    300\u001b[0m \u001b[1;33m\u001b[0m\u001b[0m\n\u001b[0;32m    301\u001b[0m \u001b[1;33m\u001b[0m\u001b[0m\n",
      "\u001b[1;32m~\\anaconda3\\envs\\zTp\\lib\\site-packages\\numpy\\core\\fromnumeric.py\u001b[0m in \u001b[0;36m_wrapfunc\u001b[1;34m(obj, method, *args, **kwds)\u001b[0m\n\u001b[0;32m     56\u001b[0m \u001b[1;33m\u001b[0m\u001b[0m\n\u001b[0;32m     57\u001b[0m     \u001b[1;32mtry\u001b[0m\u001b[1;33m:\u001b[0m\u001b[1;33m\u001b[0m\u001b[1;33m\u001b[0m\u001b[0m\n\u001b[1;32m---> 58\u001b[1;33m         \u001b[1;32mreturn\u001b[0m \u001b[0mbound\u001b[0m\u001b[1;33m(\u001b[0m\u001b[1;33m*\u001b[0m\u001b[0margs\u001b[0m\u001b[1;33m,\u001b[0m \u001b[1;33m**\u001b[0m\u001b[0mkwds\u001b[0m\u001b[1;33m)\u001b[0m\u001b[1;33m\u001b[0m\u001b[1;33m\u001b[0m\u001b[0m\n\u001b[0m\u001b[0;32m     59\u001b[0m     \u001b[1;32mexcept\u001b[0m \u001b[0mTypeError\u001b[0m\u001b[1;33m:\u001b[0m\u001b[1;33m\u001b[0m\u001b[1;33m\u001b[0m\u001b[0m\n\u001b[0;32m     60\u001b[0m         \u001b[1;31m# A TypeError occurs if the object does have such a method in its\u001b[0m\u001b[1;33m\u001b[0m\u001b[1;33m\u001b[0m\u001b[1;33m\u001b[0m\u001b[0m\n",
      "\u001b[1;31mValueError\u001b[0m: cannot reshape array of size 13 into shape (4,newaxis)"
     ]
    }
   ],
   "source": [
    "# Example 3 - breaking (to illustrate when it breaks)\n",
    "x = np.random.randint(-10, 10, 13)\n",
    "print(x)\n",
    "print(x.shape)\n",
    "#x.resize(16)   Without resizing to zero-fill the incoming array, the desired shape may not be possible\n",
    "x = np.reshape(x, (4, -1))\n",
    "print(x)"
   ]
  },
  {
   "cell_type": "markdown",
   "metadata": {},
   "source": [
    "Without resizing to zero-fill the incoming array, the desired shape may not be possible"
   ]
  },
  {
   "cell_type": "markdown",
   "metadata": {},
   "source": [
    "np.reshape() is a fantastic function when building datasets as it allows for easily translation between the shape of the raw data and the desired tensor shape."
   ]
  },
  {
   "cell_type": "markdown",
   "metadata": {},
   "source": [
    "## Function 2 - np.ndarray.resize()\n",
    "\n",
    "np.ndarray.resize() will resize an array or dimension of an array by filling in elements from the last element on the axis up to the specified size."
   ]
  },
  {
   "cell_type": "code",
   "execution_count": 5,
   "metadata": {},
   "outputs": [
    {
     "name": "stdout",
     "output_type": "stream",
     "text": [
      "Original Arrays:\n",
      "[1 2 3 4 5]\n",
      "[6 7 8]\n",
      "[ 9 10 11 12]\n",
      "\n",
      "Resized Arrays Combined into 2D Matrix:\n",
      "[[ 1.  2.  3.  4.  5.]\n",
      " [ 6.  7.  8.  0.  0.]\n",
      " [ 9. 10. 11. 12.  0.]]\n"
     ]
    }
   ],
   "source": [
    "# Example 1 - working\n",
    "x = np.array([1,2,3,4,5])\n",
    "y = np.array([6,7,8])\n",
    "z = np.array([9,10,11,12])\n",
    "print(\"Original Arrays:\\n{}\\n{}\\n{}\".format(x,y,z))\n",
    "print()\n",
    "\n",
    "a = np.empty((3,5))\n",
    "\n",
    "y.resize(5)\n",
    "z.resize(5)\n",
    "\n",
    "for i in range(3):\n",
    "    if i == 0:\n",
    "        a[i] = x\n",
    "    elif i == 1:\n",
    "        a[i] = y\n",
    "    else:\n",
    "        a[i] = z\n",
    "print(\"Resized Arrays Combined into 2D Matrix:\\n{}\".format(a))\n"
   ]
  },
  {
   "cell_type": "markdown",
   "metadata": {},
   "source": [
    "The arrays in the above example were not of the same size and you would have trouble combining them into a 2-dimensional array without the ability to pad the smaller arrays."
   ]
  },
  {
   "cell_type": "code",
   "execution_count": 6,
   "metadata": {},
   "outputs": [
    {
     "name": "stdout",
     "output_type": "stream",
     "text": [
      "Original Array:\n",
      "[[ -7  -4   0   1]\n",
      " [ -1  -8   7  -4]\n",
      " [  9  -8  -7 -10]\n",
      " [  7  -7  -1  -8]\n",
      " [ -8  -5  -2   5]]\n",
      "\n",
      "Shrunken Array:\n",
      "[[-7 -4  0]\n",
      " [ 1 -1 -8]\n",
      " [ 7 -4  9]]\n"
     ]
    }
   ],
   "source": [
    "# Example 2 - working\n",
    "x = np.random.randint(-10, 10, (5,4))\n",
    "print(\"Original Array:\\n{}\".format(x))\n",
    "print()\n",
    "x.resize((3,3))\n",
    "print(\"Shrunken Array:\\n{}\".format(x))"
   ]
  },
  {
   "cell_type": "markdown",
   "metadata": {},
   "source": [
    "np.ndarray.resize() can be used to shrink N-dimensional arrays.  The values are chosen according to C-like convention, which takes the values from the front first."
   ]
  },
  {
   "cell_type": "code",
   "execution_count": 7,
   "metadata": {},
   "outputs": [
    {
     "name": "stdout",
     "output_type": "stream",
     "text": [
      "[[ -2  -3   0   8]\n",
      " [ -9 -10   8   8]\n",
      " [-10  -8  -3   6]\n",
      " [  2   4   4 -10]\n",
      " [  5   2  -7  -6]]\n",
      "\n",
      "[[-5 -2 -5]\n",
      " [-6 -5  3]\n",
      " [-2 -2 -8]\n",
      " [ 9 -8 -9]\n",
      " [-7 -8  3]\n",
      " [ 4 -4 -7]\n",
      " [ 0  8  0]]\n",
      "[[ -2  -3   0   8  -9 -10   8   8 -10  -8]\n",
      " [ -3   6   2   4   4 -10   5   2  -7  -6]\n",
      " [  0   0   0   0   0   0   0   0   0   0]\n",
      " [  0   0   0   0   0   0   0   0   0   0]\n",
      " [  0   0   0   0   0   0   0   0   0   0]\n",
      " [  0   0   0   0   0   0   0   0   0   0]\n",
      " [  0   0   0   0   0   0   0   0   0   0]\n",
      " [  0   0   0   0   0   0   0   0   0   0]\n",
      " [  0   0   0   0   0   0   0   0   0   0]\n",
      " [  0   0   0   0   0   0   0   0   0   0]]\n",
      "[-5 -2 -5 -6 -5  3 -2 -2 -8  9]\n",
      "[[ -2  -3   0   8  -9 -10   8   8 -10  -8  -3   6   2   4   4 -10   5   2\n",
      "   -7  -6   0   0   0   0   0]\n",
      " [  0   0   0   0   0   0   0   0   0   0   0   0   0   0   0   0   0   0\n",
      "    0   0   0   0   0   0   0]\n",
      " [  0   0   0   0   0   0   0   0   0   0   0   0   0   0   0   0   0   0\n",
      "    0   0   0   0   0   0   0]\n",
      " [  0   0   0   0   0   0   0   0   0   0   0   0   0   0   0   0   0   0\n",
      "    0   0   0   0   0   0   0]]\n"
     ]
    },
    {
     "ename": "ValueError",
     "evalue": "cannot reshape array of size 10 into shape (4,25)",
     "output_type": "error",
     "traceback": [
      "\u001b[1;31m---------------------------------------------------------------------------\u001b[0m",
      "\u001b[1;31mValueError\u001b[0m                                Traceback (most recent call last)",
      "\u001b[1;32m<ipython-input-7-d3167b6007f1>\u001b[0m in \u001b[0;36m<module>\u001b[1;34m\u001b[0m\n\u001b[0;32m     16\u001b[0m \u001b[0mx\u001b[0m \u001b[1;33m=\u001b[0m \u001b[0mnp\u001b[0m\u001b[1;33m.\u001b[0m\u001b[0mreshape\u001b[0m\u001b[1;33m(\u001b[0m\u001b[0mx\u001b[0m\u001b[1;33m,\u001b[0m \u001b[1;33m(\u001b[0m\u001b[1;36m4\u001b[0m\u001b[1;33m,\u001b[0m\u001b[1;36m25\u001b[0m\u001b[1;33m)\u001b[0m\u001b[1;33m)\u001b[0m\u001b[1;33m\u001b[0m\u001b[1;33m\u001b[0m\u001b[0m\n\u001b[0;32m     17\u001b[0m \u001b[0mprint\u001b[0m\u001b[1;33m(\u001b[0m\u001b[0mx\u001b[0m\u001b[1;33m)\u001b[0m\u001b[1;33m\u001b[0m\u001b[1;33m\u001b[0m\u001b[0m\n\u001b[1;32m---> 18\u001b[1;33m \u001b[0my\u001b[0m \u001b[1;33m=\u001b[0m \u001b[0mnp\u001b[0m\u001b[1;33m.\u001b[0m\u001b[0mreshape\u001b[0m\u001b[1;33m(\u001b[0m\u001b[0my\u001b[0m\u001b[1;33m,\u001b[0m \u001b[1;33m(\u001b[0m\u001b[1;36m4\u001b[0m\u001b[1;33m,\u001b[0m\u001b[1;36m25\u001b[0m\u001b[1;33m)\u001b[0m\u001b[1;33m)\u001b[0m\u001b[1;33m\u001b[0m\u001b[1;33m\u001b[0m\u001b[0m\n\u001b[0m\u001b[0;32m     19\u001b[0m \u001b[0mprint\u001b[0m\u001b[1;33m(\u001b[0m\u001b[0my\u001b[0m\u001b[1;33m)\u001b[0m\u001b[1;33m\u001b[0m\u001b[1;33m\u001b[0m\u001b[0m\n",
      "\u001b[1;32m<__array_function__ internals>\u001b[0m in \u001b[0;36mreshape\u001b[1;34m(*args, **kwargs)\u001b[0m\n",
      "\u001b[1;32m~\\anaconda3\\envs\\zTp\\lib\\site-packages\\numpy\\core\\fromnumeric.py\u001b[0m in \u001b[0;36mreshape\u001b[1;34m(a, newshape, order)\u001b[0m\n\u001b[0;32m    297\u001b[0m            [5, 6]])\n\u001b[0;32m    298\u001b[0m     \"\"\"\n\u001b[1;32m--> 299\u001b[1;33m     \u001b[1;32mreturn\u001b[0m \u001b[0m_wrapfunc\u001b[0m\u001b[1;33m(\u001b[0m\u001b[0ma\u001b[0m\u001b[1;33m,\u001b[0m \u001b[1;34m'reshape'\u001b[0m\u001b[1;33m,\u001b[0m \u001b[0mnewshape\u001b[0m\u001b[1;33m,\u001b[0m \u001b[0morder\u001b[0m\u001b[1;33m=\u001b[0m\u001b[0morder\u001b[0m\u001b[1;33m)\u001b[0m\u001b[1;33m\u001b[0m\u001b[1;33m\u001b[0m\u001b[0m\n\u001b[0m\u001b[0;32m    300\u001b[0m \u001b[1;33m\u001b[0m\u001b[0m\n\u001b[0;32m    301\u001b[0m \u001b[1;33m\u001b[0m\u001b[0m\n",
      "\u001b[1;32m~\\anaconda3\\envs\\zTp\\lib\\site-packages\\numpy\\core\\fromnumeric.py\u001b[0m in \u001b[0;36m_wrapfunc\u001b[1;34m(obj, method, *args, **kwds)\u001b[0m\n\u001b[0;32m     56\u001b[0m \u001b[1;33m\u001b[0m\u001b[0m\n\u001b[0;32m     57\u001b[0m     \u001b[1;32mtry\u001b[0m\u001b[1;33m:\u001b[0m\u001b[1;33m\u001b[0m\u001b[1;33m\u001b[0m\u001b[0m\n\u001b[1;32m---> 58\u001b[1;33m         \u001b[1;32mreturn\u001b[0m \u001b[0mbound\u001b[0m\u001b[1;33m(\u001b[0m\u001b[1;33m*\u001b[0m\u001b[0margs\u001b[0m\u001b[1;33m,\u001b[0m \u001b[1;33m**\u001b[0m\u001b[0mkwds\u001b[0m\u001b[1;33m)\u001b[0m\u001b[1;33m\u001b[0m\u001b[1;33m\u001b[0m\u001b[0m\n\u001b[0m\u001b[0;32m     59\u001b[0m     \u001b[1;32mexcept\u001b[0m \u001b[0mTypeError\u001b[0m\u001b[1;33m:\u001b[0m\u001b[1;33m\u001b[0m\u001b[1;33m\u001b[0m\u001b[0m\n\u001b[0;32m     60\u001b[0m         \u001b[1;31m# A TypeError occurs if the object does have such a method in its\u001b[0m\u001b[1;33m\u001b[0m\u001b[1;33m\u001b[0m\u001b[1;33m\u001b[0m\u001b[0m\n",
      "\u001b[1;31mValueError\u001b[0m: cannot reshape array of size 10 into shape (4,25)"
     ]
    }
   ],
   "source": [
    "# Example 3 - breaking (to illustrate when it breaks)\n",
    "x = np.random.randint(-10, 10, (5,4))\n",
    "y = np.random.randint(-10, 10, (7,3))\n",
    "\n",
    "print(x)\n",
    "print()\n",
    "print(y)\n",
    "\n",
    "x.resize((10,10))\n",
    "y.resize(10)\n",
    "#y.resize((10,10)) would be the correct way to resize y.\n",
    "\n",
    "print(x)\n",
    "print(y)\n",
    "\n",
    "x = np.reshape(x, (4,25))\n",
    "print(x)\n",
    "y = np.reshape(y, (4,25))\n",
    "print(y)"
   ]
  },
  {
   "cell_type": "markdown",
   "metadata": {},
   "source": [
    "When array y (a 2-dimensional array) is resized in the above example, the target size is mistakenly entered as a 1-dimensional array of size(10,); enter the value as '(10, n)'."
   ]
  },
  {
   "cell_type": "markdown",
   "metadata": {},
   "source": [
    "np.ndarray.resize() is useful for fitting large amounts of irregularly shaped data together into N-dimensional arrays which can then be further refined together."
   ]
  },
  {
   "cell_type": "markdown",
   "metadata": {},
   "source": [
    "## Function 3 - np.linalg.norm()\n",
    "\n",
    "This function will return normalizations of a vector or matrix of vectors according to the 'ord' argument passed.  The default is the Frobenius norm, which is the square root of the sum of squares of the absolute values along the axis."
   ]
  },
  {
   "cell_type": "code",
   "execution_count": 8,
   "metadata": {},
   "outputs": [
    {
     "name": "stdout",
     "output_type": "stream",
     "text": [
      "Original Vector:\n",
      "[[ -7   3  -2   7   3  -5  -6  -8   6   5]\n",
      " [ -4  -6  -1  -9  -4 -10  -1   0  -3  -2]\n",
      " [ -6 -10  -9   9   8   8  -1  -3  -1   4]\n",
      " [ -8   5  -1  -1   0   4   7  -2  -6   3]\n",
      " [ -2  -1  -6   0  -1  -9   6   0   7   9]\n",
      " [-10   4  -5  -3  -3   5  -2   9   1   6]\n",
      " [-10 -10  -7   2  -6   9   3   0   7  -4]\n",
      " [ -1   0  -7  -3   1  -2  -1  -5  -2  -2]\n",
      " [  4  -5   7  -7  -8  -1 -10  -5  -5  -5]\n",
      " [  6   7   9  -7  -7   1  -5  -5   5  -2]]\n",
      "\n",
      "Frobenius Norms of Vectors Along Axis 1 (inner arrays):\n",
      "[17.49285568 16.24807681 21.28379665 14.31782106 17.         17.49285568\n",
      " 21.07130751  9.89949494 19.46792233 18.54723699]\n"
     ]
    }
   ],
   "source": [
    "# Example 1 - working\n",
    "from numpy import linalg as LA\n",
    "x = np.random.randint(-10, 10, size=(10,10))\n",
    "print(\"Original Vector:\\n{}\".format(x))\n",
    "print()\n",
    "print(\"Frobenius Norms of Vectors Along Axis 1 (inner arrays):\\n{}\".format(LA.norm(x, axis=1)))"
   ]
  },
  {
   "cell_type": "markdown",
   "metadata": {},
   "source": [
    "The returned Frobenius norms can be verified by summing the squares of absolute values of each array along axis 1, and then taking the square root of each."
   ]
  },
  {
   "cell_type": "code",
   "execution_count": 9,
   "metadata": {},
   "outputs": [
    {
     "name": "stdout",
     "output_type": "stream",
     "text": [
      "Original Vector:\n",
      "[[  9   9   8  -4   7   0  -9   2   5  -8]\n",
      " [ -2  -2  -7   4  -2  -6  -5 -10  -4   9]\n",
      " [ -3   0  -5   8  -1   7   1 -10  -9   4]\n",
      " [  2  -5  -7  -2   0  -9 -10 -10  -6   3]\n",
      " [  9   9   7   6  -9   4   9   5   6  -9]\n",
      " [ -2   5   8   4   0  -8   6   8  -7  -8]\n",
      " [  4  -8 -10   1   8   8   8  -8   4  -6]\n",
      " [  5  -9  -7  -1   6  -6   1   5  -4  -5]\n",
      " [ -9  -4   9  -6   1   9   3  -5   7   3]\n",
      " [  7  -3  -8   5   5  -4  -5   0  -9  -7]]\n",
      "\n",
      "Frobenius Norm of Entire 2D Vector:\n",
      "63.419239982831705\n"
     ]
    }
   ],
   "source": [
    "# Example 2 - working\n",
    "from numpy import linalg as LA\n",
    "x = np.random.randint(-10, 10, size=(10,10))\n",
    "print(\"Original Vector:\\n{}\".format(x))\n",
    "print()\n",
    "print(\"Frobenius Norm of Entire 2D Vector:\\n{}\".format(LA.norm(x)))"
   ]
  },
  {
   "cell_type": "markdown",
   "metadata": {},
   "source": [
    "Without specifiying the 'axis' argument while calling the norm() function, the entire 2-norm (Frobenius) is calculated for the 2d matrix."
   ]
  },
  {
   "cell_type": "code",
   "execution_count": 10,
   "metadata": {},
   "outputs": [
    {
     "name": "stdout",
     "output_type": "stream",
     "text": [
      "Original Vector:\n",
      "[[ -5   4  -4   6   3  -3  -8   4   6   2]\n",
      " [-10  -6  -4   0   5 -10  -6  -5   1   9]\n",
      " [  8  -3  -9  -2  -3   7  -8   8  -4   8]\n",
      " [  4   0   5  -3   5  -2  -1  -4   0  -5]\n",
      " [ -6   7  -2   3  -8   3   4  -9  -9   6]\n",
      " [ -8  -3   6  -2   0   8   8  -6   2   1]\n",
      " [  6  -2  -1   1  -9  -1   8 -10   9   2]\n",
      " [  4   7  -2  -4  -3   5  -8   3 -10 -10]\n",
      " [ -4  -2   8  -3   1   8   9  -4 -10   5]\n",
      " [ -9  -1  -5   5  -3  -7  -8   9  -8  -7]]\n",
      "\n"
     ]
    },
    {
     "ename": "ValueError",
     "evalue": "Invalid norm order for matrices.",
     "output_type": "error",
     "traceback": [
      "\u001b[1;31m---------------------------------------------------------------------------\u001b[0m",
      "\u001b[1;31mValueError\u001b[0m                                Traceback (most recent call last)",
      "\u001b[1;32m<ipython-input-10-a069b255c487>\u001b[0m in \u001b[0;36m<module>\u001b[1;34m\u001b[0m\n\u001b[0;32m      4\u001b[0m \u001b[0mprint\u001b[0m\u001b[1;33m(\u001b[0m\u001b[1;34m\"Original Vector:\\n{}\"\u001b[0m\u001b[1;33m.\u001b[0m\u001b[0mformat\u001b[0m\u001b[1;33m(\u001b[0m\u001b[0mx\u001b[0m\u001b[1;33m)\u001b[0m\u001b[1;33m)\u001b[0m\u001b[1;33m\u001b[0m\u001b[1;33m\u001b[0m\u001b[0m\n\u001b[0;32m      5\u001b[0m \u001b[0mprint\u001b[0m\u001b[1;33m(\u001b[0m\u001b[1;33m)\u001b[0m\u001b[1;33m\u001b[0m\u001b[1;33m\u001b[0m\u001b[0m\n\u001b[1;32m----> 6\u001b[1;33m \u001b[0mprint\u001b[0m\u001b[1;33m(\u001b[0m\u001b[1;34m\"Count of Non-Zero Element Norm Along Axis 1:\\n{}\"\u001b[0m\u001b[1;33m.\u001b[0m\u001b[0mformat\u001b[0m\u001b[1;33m(\u001b[0m\u001b[0mLA\u001b[0m\u001b[1;33m.\u001b[0m\u001b[0mnorm\u001b[0m\u001b[1;33m(\u001b[0m\u001b[0mx\u001b[0m\u001b[1;33m,\u001b[0m \u001b[0mord\u001b[0m\u001b[1;33m=\u001b[0m\u001b[1;36m0\u001b[0m\u001b[1;33m)\u001b[0m\u001b[1;33m)\u001b[0m\u001b[1;33m)\u001b[0m \u001b[1;31m#No axis is specified with 'axis='\u001b[0m\u001b[1;33m\u001b[0m\u001b[1;33m\u001b[0m\u001b[0m\n\u001b[0m",
      "\u001b[1;32m<__array_function__ internals>\u001b[0m in \u001b[0;36mnorm\u001b[1;34m(*args, **kwargs)\u001b[0m\n",
      "\u001b[1;32m~\\anaconda3\\envs\\zTp\\lib\\site-packages\\numpy\\linalg\\linalg.py\u001b[0m in \u001b[0;36mnorm\u001b[1;34m(x, ord, axis, keepdims)\u001b[0m\n\u001b[0;32m   2601\u001b[0m             \u001b[0mret\u001b[0m \u001b[1;33m=\u001b[0m \u001b[0m_multi_svd_norm\u001b[0m\u001b[1;33m(\u001b[0m\u001b[0mx\u001b[0m\u001b[1;33m,\u001b[0m \u001b[0mrow_axis\u001b[0m\u001b[1;33m,\u001b[0m \u001b[0mcol_axis\u001b[0m\u001b[1;33m,\u001b[0m \u001b[0msum\u001b[0m\u001b[1;33m)\u001b[0m\u001b[1;33m\u001b[0m\u001b[1;33m\u001b[0m\u001b[0m\n\u001b[0;32m   2602\u001b[0m         \u001b[1;32melse\u001b[0m\u001b[1;33m:\u001b[0m\u001b[1;33m\u001b[0m\u001b[1;33m\u001b[0m\u001b[0m\n\u001b[1;32m-> 2603\u001b[1;33m             \u001b[1;32mraise\u001b[0m \u001b[0mValueError\u001b[0m\u001b[1;33m(\u001b[0m\u001b[1;34m\"Invalid norm order for matrices.\"\u001b[0m\u001b[1;33m)\u001b[0m\u001b[1;33m\u001b[0m\u001b[1;33m\u001b[0m\u001b[0m\n\u001b[0m\u001b[0;32m   2604\u001b[0m         \u001b[1;32mif\u001b[0m \u001b[0mkeepdims\u001b[0m\u001b[1;33m:\u001b[0m\u001b[1;33m\u001b[0m\u001b[1;33m\u001b[0m\u001b[0m\n\u001b[0;32m   2605\u001b[0m             \u001b[0mret_shape\u001b[0m \u001b[1;33m=\u001b[0m \u001b[0mlist\u001b[0m\u001b[1;33m(\u001b[0m\u001b[0mx\u001b[0m\u001b[1;33m.\u001b[0m\u001b[0mshape\u001b[0m\u001b[1;33m)\u001b[0m\u001b[1;33m\u001b[0m\u001b[1;33m\u001b[0m\u001b[0m\n",
      "\u001b[1;31mValueError\u001b[0m: Invalid norm order for matrices."
     ]
    }
   ],
   "source": [
    "# Example 3 - breaking (to illustrate when it breaks)\n",
    "from numpy import linalg as LA\n",
    "x = np.random.randint(-10, 10, size=(10,10))\n",
    "print(\"Original Vector:\\n{}\".format(x))\n",
    "print()\n",
    "print(\"Count of Non-Zero Element Norm Along Axis 1:\\n{}\".format(LA.norm(x, ord=0))) #No axis is specified with 'axis='"
   ]
  },
  {
   "cell_type": "markdown",
   "metadata": {},
   "source": [
    "The 'ord' argument 0 in the above norm() function call gives a count of the non-zero elements along an axis.  In this example, no axis was specified and so the normalization cannot occur.  Add the argument 'axis=n' to the function call."
   ]
  },
  {
   "cell_type": "markdown",
   "metadata": {},
   "source": [
    "This function offers multiple ways to normalize data and can even preserve the dimensions of the normalized values so that they can be broadcast against the original array or matrix."
   ]
  },
  {
   "cell_type": "markdown",
   "metadata": {},
   "source": [
    "## Function 4 - np.hypot()\n",
    "\n",
    "Will calculate the hypotenuse of a right triangle given the values of the remaining sides from two arrays, element-wise."
   ]
  },
  {
   "cell_type": "code",
   "execution_count": 11,
   "metadata": {},
   "outputs": [
    {
     "name": "stdout",
     "output_type": "stream",
     "text": [
      "Array 1:\n",
      "[ 3  5 48]\n",
      "\n",
      "Array 2:\n",
      "[ 4 12 55]\n",
      "\n",
      "Hypotenuse Results:\n",
      "[ 5. 13. 73.]\n"
     ]
    }
   ],
   "source": [
    "# Example 1 - working\n",
    "x = np.array([3, 5, 48])\n",
    "y = np.array([4, 12, 55])\n",
    "print(\"Array 1:\\n{}\".format(x))\n",
    "print()\n",
    "print(\"Array 2:\\n{}\".format(y))\n",
    "print()\n",
    "print(\"Hypotenuse Results:\\n{}\".format(np.hypot(x,y)))"
   ]
  },
  {
   "cell_type": "markdown",
   "metadata": {},
   "source": [
    "The pythagorean theorem is applied element-wise to Arrays 1 and 2.  The hypotenuse values populate the return array."
   ]
  },
  {
   "cell_type": "code",
   "execution_count": 12,
   "metadata": {},
   "outputs": [
    {
     "name": "stdout",
     "output_type": "stream",
     "text": [
      "Array 1:\n",
      "[[[1 3 6]\n",
      "  [1 3 9]\n",
      "  [1 3 1]]\n",
      "\n",
      " [[6 4 2]\n",
      "  [8 1 9]\n",
      "  [2 4 5]]\n",
      "\n",
      " [[8 6 2]\n",
      "  [7 6 1]\n",
      "  [4 6 1]]]\n",
      "\n",
      "Array 2:\n",
      "[[[0 2 3]\n",
      "  [2 3 6]\n",
      "  [1 0 9]]\n",
      "\n",
      " [[2 3 7]\n",
      "  [1 7 0]\n",
      "  [7 2 8]]\n",
      "\n",
      " [[1 3 3]\n",
      "  [5 7 6]\n",
      "  [6 5 9]]]\n",
      "\n",
      "Hypotenuse Results:\n",
      "[[[ 1.          3.60555128  6.70820393]\n",
      "  [ 2.23606798  4.24264069 10.81665383]\n",
      "  [ 1.41421356  3.          9.05538514]]\n",
      "\n",
      " [[ 6.32455532  5.          7.28010989]\n",
      "  [ 8.06225775  7.07106781  9.        ]\n",
      "  [ 7.28010989  4.47213595  9.43398113]]\n",
      "\n",
      " [[ 8.06225775  6.70820393  3.60555128]\n",
      "  [ 8.60232527  9.21954446  6.08276253]\n",
      "  [ 7.21110255  7.81024968  9.05538514]]]\n"
     ]
    }
   ],
   "source": [
    "# Example 2 - working\n",
    "x = np.random.randint(10, size=(3,3,3))\n",
    "y = np.random.randint(10, size=(3,3,3))\n",
    "print(\"Array 1:\\n{}\".format(x))\n",
    "print()\n",
    "print(\"Array 2:\\n{}\".format(y))\n",
    "print()\n",
    "print(\"Hypotenuse Results:\\n{}\".format(np.hypot(x,y)))"
   ]
  },
  {
   "cell_type": "markdown",
   "metadata": {},
   "source": [
    "The hypotenuse function can be used across arrays of multiple dimensions, as long as there are only 2 arrays and the shapes are compatible."
   ]
  },
  {
   "cell_type": "code",
   "execution_count": 13,
   "metadata": {},
   "outputs": [
    {
     "name": "stdout",
     "output_type": "stream",
     "text": [
      "Array 1:\n",
      "[[[8 1]\n",
      "  [1 5]\n",
      "  [8 1]]\n",
      "\n",
      " [[9 5]\n",
      "  [0 8]\n",
      "  [4 1]]\n",
      "\n",
      " [[9 5]\n",
      "  [8 2]\n",
      "  [1 2]]]\n",
      "\n",
      "Array 2:\n",
      "[[[9 9 6]\n",
      "  [4 0 1]\n",
      "  [5 6 4]]\n",
      "\n",
      " [[7 5 3]\n",
      "  [0 7 4]\n",
      "  [0 6 0]]\n",
      "\n",
      " [[2 9 6]\n",
      "  [6 7 7]\n",
      "  [2 8 2]]]\n",
      "\n"
     ]
    },
    {
     "ename": "ValueError",
     "evalue": "operands could not be broadcast together with shapes (3,3,2) (3,3,3) ",
     "output_type": "error",
     "traceback": [
      "\u001b[1;31m---------------------------------------------------------------------------\u001b[0m",
      "\u001b[1;31mValueError\u001b[0m                                Traceback (most recent call last)",
      "\u001b[1;32m<ipython-input-13-e6e129552723>\u001b[0m in \u001b[0;36m<module>\u001b[1;34m\u001b[0m\n\u001b[0;32m      6\u001b[0m \u001b[0mprint\u001b[0m\u001b[1;33m(\u001b[0m\u001b[1;34m\"Array 2:\\n{}\"\u001b[0m\u001b[1;33m.\u001b[0m\u001b[0mformat\u001b[0m\u001b[1;33m(\u001b[0m\u001b[0my\u001b[0m\u001b[1;33m)\u001b[0m\u001b[1;33m)\u001b[0m\u001b[1;33m\u001b[0m\u001b[1;33m\u001b[0m\u001b[0m\n\u001b[0;32m      7\u001b[0m \u001b[0mprint\u001b[0m\u001b[1;33m(\u001b[0m\u001b[1;33m)\u001b[0m\u001b[1;33m\u001b[0m\u001b[1;33m\u001b[0m\u001b[0m\n\u001b[1;32m----> 8\u001b[1;33m \u001b[0mprint\u001b[0m\u001b[1;33m(\u001b[0m\u001b[1;34m\"Hypotenuse Results:\\n{}\"\u001b[0m\u001b[1;33m.\u001b[0m\u001b[0mformat\u001b[0m\u001b[1;33m(\u001b[0m\u001b[0mnp\u001b[0m\u001b[1;33m.\u001b[0m\u001b[0mhypot\u001b[0m\u001b[1;33m(\u001b[0m\u001b[0mx\u001b[0m\u001b[1;33m,\u001b[0m\u001b[0my\u001b[0m\u001b[1;33m)\u001b[0m\u001b[1;33m)\u001b[0m\u001b[1;33m)\u001b[0m\u001b[1;33m\u001b[0m\u001b[1;33m\u001b[0m\u001b[0m\n\u001b[0m",
      "\u001b[1;31mValueError\u001b[0m: operands could not be broadcast together with shapes (3,3,2) (3,3,3) "
     ]
    }
   ],
   "source": [
    "# Example 3 - breaking (to illustrate when it breaks)\n",
    "x = np.random.randint(10, size=(3,3,2))\n",
    "y = np.random.randint(10, size=(3,3,3))\n",
    "print(\"Array 1:\\n{}\".format(x))\n",
    "print()\n",
    "print(\"Array 2:\\n{}\".format(y))\n",
    "print()\n",
    "print(\"Hypotenuse Results:\\n{}\".format(np.hypot(x,y)))"
   ]
  },
  {
   "cell_type": "markdown",
   "metadata": {},
   "source": [
    "The two input arrays are not of compatible shapes.  Axis 2 of array x could be resized using np.resize() in order to make the output broadcastable to a common shape."
   ]
  },
  {
   "cell_type": "markdown",
   "metadata": {},
   "source": [
    "When computing the values of multiple vectors and give x and y data in the form of two input arrays, the distance from the origin to (x[i], y[i]) can be computed as the hypotenuse of a right triangle and displayed in the returned array."
   ]
  },
  {
   "cell_type": "markdown",
   "metadata": {},
   "source": [
    "## Function 5 - np.cumsum()\n",
    "\n",
    "This function will return the cumulative sum of elements along an axis."
   ]
  },
  {
   "cell_type": "code",
   "execution_count": 14,
   "metadata": {},
   "outputs": [
    {
     "name": "stdout",
     "output_type": "stream",
     "text": [
      "Original Arrays:\n",
      "[1 2 3 4 5]\n",
      "\n",
      "Cumulative Sums:\n",
      "[ 1  3  6 10 15]\n"
     ]
    }
   ],
   "source": [
    "# Example 1 - working\n",
    "x = np.arange(1, 6)\n",
    "print(\"Original Arrays:\\n{}\".format(x))\n",
    "print()\n",
    "print(\"Cumulative Sums:\\n{}\".format(np.cumsum(x)))"
   ]
  },
  {
   "cell_type": "markdown",
   "metadata": {},
   "source": [
    "Each element of the output array is the value of the cumulative total of the preceding input array elements."
   ]
  },
  {
   "cell_type": "code",
   "execution_count": 15,
   "metadata": {},
   "outputs": [
    {
     "name": "stdout",
     "output_type": "stream",
     "text": [
      "Original 2D Matrix, Values 1-5:\n",
      "[[1. 2. 3. 4. 5.]\n",
      " [1. 2. 3. 4. 5.]\n",
      " [1. 2. 3. 4. 5.]\n",
      " [1. 2. 3. 4. 5.]\n",
      " [1. 2. 3. 4. 5.]]\n",
      "\n",
      "Cumulative Sums along Axis 0:\n",
      "[[ 1.  2.  3.  4.  5.]\n",
      " [ 2.  4.  6.  8. 10.]\n",
      " [ 3.  6.  9. 12. 15.]\n",
      " [ 4.  8. 12. 16. 20.]\n",
      " [ 5. 10. 15. 20. 25.]]\n"
     ]
    }
   ],
   "source": [
    "# Example 2 - working\n",
    "x = np.empty(shape=(5,5))\n",
    "for i in range(5):\n",
    "    x[i] = np.arange(1, 6)\n",
    "print(\"Original 2D Matrix, Values 1-5:\\n{}\".format(x))\n",
    "print()\n",
    "print(\"Cumulative Sums along Axis 0:\\n{}\".format(np.cumsum(x, axis=0)))"
   ]
  },
  {
   "cell_type": "markdown",
   "metadata": {},
   "source": [
    "Axis 0 in the output matrix is a running total of the corresponding column of the input matrix.  Here, the results are counted by 1, 2, 3, 4 and 5, respectively; the running totals are read vertically."
   ]
  },
  {
   "cell_type": "code",
   "execution_count": 16,
   "metadata": {},
   "outputs": [
    {
     "name": "stdout",
     "output_type": "stream",
     "text": [
      "1D Array:\n",
      "[0 1 2 3 4 5 6 7 8 9]\n",
      "\n"
     ]
    },
    {
     "ename": "AxisError",
     "evalue": "axis 1 is out of bounds for array of dimension 1",
     "output_type": "error",
     "traceback": [
      "\u001b[1;31m---------------------------------------------------------------------------\u001b[0m",
      "\u001b[1;31mAxisError\u001b[0m                                 Traceback (most recent call last)",
      "\u001b[1;32m<ipython-input-16-bc0d7b049813>\u001b[0m in \u001b[0;36m<module>\u001b[1;34m\u001b[0m\n\u001b[0;32m      3\u001b[0m \u001b[0mprint\u001b[0m\u001b[1;33m(\u001b[0m\u001b[1;34m\"1D Array:\\n{}\"\u001b[0m\u001b[1;33m.\u001b[0m\u001b[0mformat\u001b[0m\u001b[1;33m(\u001b[0m\u001b[0mx\u001b[0m\u001b[1;33m)\u001b[0m\u001b[1;33m)\u001b[0m\u001b[1;33m\u001b[0m\u001b[1;33m\u001b[0m\u001b[0m\n\u001b[0;32m      4\u001b[0m \u001b[0mprint\u001b[0m\u001b[1;33m(\u001b[0m\u001b[1;33m)\u001b[0m\u001b[1;33m\u001b[0m\u001b[1;33m\u001b[0m\u001b[0m\n\u001b[1;32m----> 5\u001b[1;33m \u001b[0mprint\u001b[0m\u001b[1;33m(\u001b[0m\u001b[1;34m\"Cumulative Sums of Axis 1:\\n{}\"\u001b[0m\u001b[1;33m.\u001b[0m\u001b[0mformat\u001b[0m\u001b[1;33m(\u001b[0m\u001b[0mnp\u001b[0m\u001b[1;33m.\u001b[0m\u001b[0mcumsum\u001b[0m\u001b[1;33m(\u001b[0m\u001b[0mx\u001b[0m\u001b[1;33m,\u001b[0m \u001b[0maxis\u001b[0m\u001b[1;33m=\u001b[0m\u001b[1;36m1\u001b[0m\u001b[1;33m)\u001b[0m\u001b[1;33m)\u001b[0m\u001b[1;33m)\u001b[0m\u001b[1;33m\u001b[0m\u001b[1;33m\u001b[0m\u001b[0m\n\u001b[0m",
      "\u001b[1;32m<__array_function__ internals>\u001b[0m in \u001b[0;36mcumsum\u001b[1;34m(*args, **kwargs)\u001b[0m\n",
      "\u001b[1;32m~\\anaconda3\\envs\\zTp\\lib\\site-packages\\numpy\\core\\fromnumeric.py\u001b[0m in \u001b[0;36mcumsum\u001b[1;34m(a, axis, dtype, out)\u001b[0m\n\u001b[0;32m   2481\u001b[0m \u001b[1;33m\u001b[0m\u001b[0m\n\u001b[0;32m   2482\u001b[0m     \"\"\"\n\u001b[1;32m-> 2483\u001b[1;33m     \u001b[1;32mreturn\u001b[0m \u001b[0m_wrapfunc\u001b[0m\u001b[1;33m(\u001b[0m\u001b[0ma\u001b[0m\u001b[1;33m,\u001b[0m \u001b[1;34m'cumsum'\u001b[0m\u001b[1;33m,\u001b[0m \u001b[0maxis\u001b[0m\u001b[1;33m=\u001b[0m\u001b[0maxis\u001b[0m\u001b[1;33m,\u001b[0m \u001b[0mdtype\u001b[0m\u001b[1;33m=\u001b[0m\u001b[0mdtype\u001b[0m\u001b[1;33m,\u001b[0m \u001b[0mout\u001b[0m\u001b[1;33m=\u001b[0m\u001b[0mout\u001b[0m\u001b[1;33m)\u001b[0m\u001b[1;33m\u001b[0m\u001b[1;33m\u001b[0m\u001b[0m\n\u001b[0m\u001b[0;32m   2484\u001b[0m \u001b[1;33m\u001b[0m\u001b[0m\n\u001b[0;32m   2485\u001b[0m \u001b[1;33m\u001b[0m\u001b[0m\n",
      "\u001b[1;32m~\\anaconda3\\envs\\zTp\\lib\\site-packages\\numpy\\core\\fromnumeric.py\u001b[0m in \u001b[0;36m_wrapfunc\u001b[1;34m(obj, method, *args, **kwds)\u001b[0m\n\u001b[0;32m     56\u001b[0m \u001b[1;33m\u001b[0m\u001b[0m\n\u001b[0;32m     57\u001b[0m     \u001b[1;32mtry\u001b[0m\u001b[1;33m:\u001b[0m\u001b[1;33m\u001b[0m\u001b[1;33m\u001b[0m\u001b[0m\n\u001b[1;32m---> 58\u001b[1;33m         \u001b[1;32mreturn\u001b[0m \u001b[0mbound\u001b[0m\u001b[1;33m(\u001b[0m\u001b[1;33m*\u001b[0m\u001b[0margs\u001b[0m\u001b[1;33m,\u001b[0m \u001b[1;33m**\u001b[0m\u001b[0mkwds\u001b[0m\u001b[1;33m)\u001b[0m\u001b[1;33m\u001b[0m\u001b[1;33m\u001b[0m\u001b[0m\n\u001b[0m\u001b[0;32m     59\u001b[0m     \u001b[1;32mexcept\u001b[0m \u001b[0mTypeError\u001b[0m\u001b[1;33m:\u001b[0m\u001b[1;33m\u001b[0m\u001b[1;33m\u001b[0m\u001b[0m\n\u001b[0;32m     60\u001b[0m         \u001b[1;31m# A TypeError occurs if the object does have such a method in its\u001b[0m\u001b[1;33m\u001b[0m\u001b[1;33m\u001b[0m\u001b[1;33m\u001b[0m\u001b[0m\n",
      "\u001b[1;31mAxisError\u001b[0m: axis 1 is out of bounds for array of dimension 1"
     ]
    }
   ],
   "source": [
    "# Example 3 - breaking (to illustrate when it breaks)\n",
    "x = np.arange(10)\n",
    "print(\"1D Array:\\n{}\".format(x))\n",
    "print()\n",
    "print(\"Cumulative Sums of Axis 1:\\n{}\".format(np.cumsum(x, axis=1)))"
   ]
  },
  {
   "cell_type": "markdown",
   "metadata": {},
   "source": [
    "The above example breaks because the function call requests that the second axis in a 1-dimensional array be summed; there is no second axis in a 1-dimensional array.  This could be fixed by changing axis to 0 or leaving it as default."
   ]
  },
  {
   "cell_type": "markdown",
   "metadata": {},
   "source": [
    "Some closing comments about when to use this function."
   ]
  },
  {
   "cell_type": "markdown",
   "metadata": {},
   "source": [
    "## Conclusion\n",
    "\n",
    "Whether calculating the magnitudes of vectors, normalizing data, or trying to arrange your data into a tensor to be used in machine learning, NumPy has many useful functions which are beneficial to be familiar with.  Next it's time to try and combine my NumPy and Pandas knowledge to create useful representations of real-world data."
   ]
  },
  {
   "cell_type": "markdown",
   "metadata": {},
   "source": [
    "## Reference Links\n",
    "\n",
    "* Numpy official tutorial : https://numpy.org/doc/stable/user/quickstart.html\n",
    "* Python documentation : https://www.python.org/"
   ]
  },
  {
   "cell_type": "code",
   "execution_count": null,
   "metadata": {},
   "outputs": [],
   "source": []
  }
 ],
 "metadata": {
  "kernelspec": {
   "display_name": "Python 3",
   "language": "python",
   "name": "python3"
  },
  "language_info": {
   "codemirror_mode": {
    "name": "ipython",
    "version": 3
   },
   "file_extension": ".py",
   "mimetype": "text/x-python",
   "name": "python",
   "nbconvert_exporter": "python",
   "pygments_lexer": "ipython3",
   "version": "3.8.5"
  }
 },
 "nbformat": 4,
 "nbformat_minor": 4
}
